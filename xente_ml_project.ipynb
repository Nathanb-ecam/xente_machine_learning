{
 "cells": [
  {
   "attachments": {},
   "cell_type": "markdown",
   "metadata": {},
   "source": [
    "# Machine learning : Xente project"
   ]
  },
  {
   "attachments": {},
   "cell_type": "markdown",
   "metadata": {},
   "source": [
    "The goal of this project is to be able to predict whether some transactions are fraudulent or not. The job of the model will be to establish a classification of a set of transactions in the most accurate way possible."
   ]
  },
  {
   "attachments": {},
   "cell_type": "markdown",
   "metadata": {},
   "source": [
    "## Looking at dataset and preparing data"
   ]
  },
  {
   "cell_type": "code",
   "execution_count": 1,
   "metadata": {},
   "outputs": [
    {
     "data": {
      "text/html": [
       "<div>\n",
       "<style scoped>\n",
       "    .dataframe tbody tr th:only-of-type {\n",
       "        vertical-align: middle;\n",
       "    }\n",
       "\n",
       "    .dataframe tbody tr th {\n",
       "        vertical-align: top;\n",
       "    }\n",
       "\n",
       "    .dataframe thead th {\n",
       "        text-align: right;\n",
       "    }\n",
       "</style>\n",
       "<table border=\"1\" class=\"dataframe\">\n",
       "  <thead>\n",
       "    <tr style=\"text-align: right;\">\n",
       "      <th></th>\n",
       "      <th>TransactionId</th>\n",
       "      <th>BatchId</th>\n",
       "      <th>AccountId</th>\n",
       "      <th>SubscriptionId</th>\n",
       "      <th>CustomerId</th>\n",
       "      <th>CurrencyCode</th>\n",
       "      <th>CountryCode</th>\n",
       "      <th>ProviderId</th>\n",
       "      <th>ProductId</th>\n",
       "      <th>ProductCategory</th>\n",
       "      <th>ChannelId</th>\n",
       "      <th>Amount</th>\n",
       "      <th>Value</th>\n",
       "      <th>TransactionStartTime</th>\n",
       "      <th>PricingStrategy</th>\n",
       "    </tr>\n",
       "  </thead>\n",
       "  <tbody>\n",
       "    <tr>\n",
       "      <th>66339</th>\n",
       "      <td>TransactionId_140085</td>\n",
       "      <td>BatchId_114864</td>\n",
       "      <td>AccountId_4841</td>\n",
       "      <td>SubscriptionId_3829</td>\n",
       "      <td>CustomerId_4827</td>\n",
       "      <td>UGX</td>\n",
       "      <td>256</td>\n",
       "      <td>ProviderId_4</td>\n",
       "      <td>ProductId_6</td>\n",
       "      <td>financial_services</td>\n",
       "      <td>ChannelId_2</td>\n",
       "      <td>-50.0</td>\n",
       "      <td>50</td>\n",
       "      <td>2019-01-20T16:21:05Z</td>\n",
       "      <td>2</td>\n",
       "    </tr>\n",
       "    <tr>\n",
       "      <th>87279</th>\n",
       "      <td>TransactionId_64558</td>\n",
       "      <td>BatchId_39429</td>\n",
       "      <td>AccountId_3981</td>\n",
       "      <td>SubscriptionId_910</td>\n",
       "      <td>CustomerId_4431</td>\n",
       "      <td>UGX</td>\n",
       "      <td>256</td>\n",
       "      <td>ProviderId_5</td>\n",
       "      <td>ProductId_3</td>\n",
       "      <td>airtime</td>\n",
       "      <td>ChannelId_3</td>\n",
       "      <td>1000.0</td>\n",
       "      <td>1000</td>\n",
       "      <td>2019-02-06T18:25:51Z</td>\n",
       "      <td>4</td>\n",
       "    </tr>\n",
       "    <tr>\n",
       "      <th>40582</th>\n",
       "      <td>TransactionId_134904</td>\n",
       "      <td>BatchId_1673</td>\n",
       "      <td>AccountId_135</td>\n",
       "      <td>SubscriptionId_3595</td>\n",
       "      <td>CustomerId_457</td>\n",
       "      <td>UGX</td>\n",
       "      <td>256</td>\n",
       "      <td>ProviderId_6</td>\n",
       "      <td>ProductId_21</td>\n",
       "      <td>utility_bill</td>\n",
       "      <td>ChannelId_3</td>\n",
       "      <td>15000.0</td>\n",
       "      <td>16650</td>\n",
       "      <td>2018-12-26T04:17:14Z</td>\n",
       "      <td>2</td>\n",
       "    </tr>\n",
       "    <tr>\n",
       "      <th>58655</th>\n",
       "      <td>TransactionId_95030</td>\n",
       "      <td>BatchId_133112</td>\n",
       "      <td>AccountId_4840</td>\n",
       "      <td>SubscriptionId_3829</td>\n",
       "      <td>CustomerId_582</td>\n",
       "      <td>UGX</td>\n",
       "      <td>256</td>\n",
       "      <td>ProviderId_4</td>\n",
       "      <td>ProductId_6</td>\n",
       "      <td>financial_services</td>\n",
       "      <td>ChannelId_2</td>\n",
       "      <td>-1000.0</td>\n",
       "      <td>1000</td>\n",
       "      <td>2019-01-12T15:57:39Z</td>\n",
       "      <td>2</td>\n",
       "    </tr>\n",
       "    <tr>\n",
       "      <th>87335</th>\n",
       "      <td>TransactionId_75383</td>\n",
       "      <td>BatchId_7649</td>\n",
       "      <td>AccountId_4841</td>\n",
       "      <td>SubscriptionId_3829</td>\n",
       "      <td>CustomerId_3328</td>\n",
       "      <td>UGX</td>\n",
       "      <td>256</td>\n",
       "      <td>ProviderId_4</td>\n",
       "      <td>ProductId_6</td>\n",
       "      <td>financial_services</td>\n",
       "      <td>ChannelId_2</td>\n",
       "      <td>-50.0</td>\n",
       "      <td>50</td>\n",
       "      <td>2019-02-06T19:05:15Z</td>\n",
       "      <td>2</td>\n",
       "    </tr>\n",
       "  </tbody>\n",
       "</table>\n",
       "</div>"
      ],
      "text/plain": [
       "              TransactionId         BatchId       AccountId   \n",
       "66339  TransactionId_140085  BatchId_114864  AccountId_4841  \\\n",
       "87279   TransactionId_64558   BatchId_39429  AccountId_3981   \n",
       "40582  TransactionId_134904    BatchId_1673   AccountId_135   \n",
       "58655   TransactionId_95030  BatchId_133112  AccountId_4840   \n",
       "87335   TransactionId_75383    BatchId_7649  AccountId_4841   \n",
       "\n",
       "            SubscriptionId       CustomerId CurrencyCode  CountryCode   \n",
       "66339  SubscriptionId_3829  CustomerId_4827          UGX          256  \\\n",
       "87279   SubscriptionId_910  CustomerId_4431          UGX          256   \n",
       "40582  SubscriptionId_3595   CustomerId_457          UGX          256   \n",
       "58655  SubscriptionId_3829   CustomerId_582          UGX          256   \n",
       "87335  SubscriptionId_3829  CustomerId_3328          UGX          256   \n",
       "\n",
       "         ProviderId     ProductId     ProductCategory    ChannelId   Amount   \n",
       "66339  ProviderId_4   ProductId_6  financial_services  ChannelId_2    -50.0  \\\n",
       "87279  ProviderId_5   ProductId_3             airtime  ChannelId_3   1000.0   \n",
       "40582  ProviderId_6  ProductId_21        utility_bill  ChannelId_3  15000.0   \n",
       "58655  ProviderId_4   ProductId_6  financial_services  ChannelId_2  -1000.0   \n",
       "87335  ProviderId_4   ProductId_6  financial_services  ChannelId_2    -50.0   \n",
       "\n",
       "       Value  TransactionStartTime  PricingStrategy  \n",
       "66339     50  2019-01-20T16:21:05Z                2  \n",
       "87279   1000  2019-02-06T18:25:51Z                4  \n",
       "40582  16650  2018-12-26T04:17:14Z                2  \n",
       "58655   1000  2019-01-12T15:57:39Z                2  \n",
       "87335     50  2019-02-06T19:05:15Z                2  "
      ]
     },
     "execution_count": 1,
     "metadata": {},
     "output_type": "execute_result"
    }
   ],
   "source": [
    "import pandas as pd\n",
    "from sklearn.model_selection import train_test_split\n",
    "\n",
    "# Read the data\n",
    "train_data = pd.read_csv('data/training.csv')\n",
    "test_data = pd.read_csv('data/test.csv')\n",
    "\n",
    "\n",
    "# Separate target from predictors\n",
    "y = train_data.FraudResult\n",
    "X = train_data.drop(['FraudResult'], axis=1)\n",
    "\n",
    "transaction_test_ids = test_data.pop('TransactionId')\n",
    "\n",
    "X_train, X_valid, y_train, y_valid = train_test_split(X, y, train_size=0.8, test_size=0.2,\n",
    "                                                           random_state=0)\n",
    "\n",
    "\n",
    "X_train.head(5)\n"
   ]
  },
  {
   "attachments": {},
   "cell_type": "markdown",
   "metadata": {},
   "source": [
    "# Dataset observations"
   ]
  },
  {
   "cell_type": "code",
   "execution_count": 2,
   "metadata": {},
   "outputs": [
    {
     "name": "stdout",
     "output_type": "stream",
     "text": [
      "95662 observations\n",
      "15 features\n"
     ]
    }
   ],
   "source": [
    "train_data.size\n",
    "print(f\"{train_data.axes[0].size} observations\")\n",
    "print(f\"{train_data.axes[1].size -1 } features\")"
   ]
  },
  {
   "cell_type": "code",
   "execution_count": 3,
   "metadata": {},
   "outputs": [
    {
     "name": "stdout",
     "output_type": "stream",
     "text": [
      "[]\n"
     ]
    }
   ],
   "source": [
    "cols_with_missing = [col for col in X_train.columns\n",
    "                     if X_train[col].isnull().any()]\n",
    "print(cols_with_missing)\n",
    "\n",
    "#No missing fields in the dataset, therefore we will not need to handle imputation in this project."
   ]
  },
  {
   "attachments": {},
   "cell_type": "markdown",
   "metadata": {},
   "source": [
    "### Looking at our classes proportions"
   ]
  },
  {
   "cell_type": "code",
   "execution_count": 4,
   "metadata": {},
   "outputs": [
    {
     "name": "stdout",
     "output_type": "stream",
     "text": [
      "99.79824799816019 % of the transactions are non fraudulent\n"
     ]
    }
   ],
   "source": [
    "\n",
    "not_fraud = train_data[train_data.FraudResult==0].FraudResult\n",
    "fraud = train_data[train_data.FraudResult==1].FraudResult\n",
    "print(f\"{(not_fraud.size/(fraud.size+not_fraud.size))*100} % of the transactions are non fraudulent\")"
   ]
  },
  {
   "attachments": {},
   "cell_type": "markdown",
   "metadata": {},
   "source": [
    "As we can see, we have a very highly imbalanced dataset. In those cases, we can be really though to make a good learning process. We will then have to deal with some oversampling or downsampling techniques.   "
   ]
  },
  {
   "cell_type": "code",
   "execution_count": 5,
   "metadata": {},
   "outputs": [
    {
     "name": "stdout",
     "output_type": "stream",
     "text": [
      "95469\n",
      "193\n"
     ]
    }
   ],
   "source": [
    "print(len(train_data[train_data.FraudResult==0]))\n",
    "print(len(train_data[train_data.FraudResult==1]))"
   ]
  },
  {
   "attachments": {},
   "cell_type": "markdown",
   "metadata": {},
   "source": [
    "In all our observations at our disposal to perform a good learning, we only have 193 of them that are fraudulent. Here, the downsampling option will probably not be appropriated because we would have a very small training data set."
   ]
  },
  {
   "attachments": {},
   "cell_type": "markdown",
   "metadata": {},
   "source": [
    "# Mutual information"
   ]
  },
  {
   "attachments": {},
   "cell_type": "markdown",
   "metadata": {},
   "source": [
    "Mutual information will be useful to identify the relative importance of each features to determine the fraud result. This analysis will give a good overview of the principal features that will be potentially more important than some others. "
   ]
  },
  {
   "cell_type": "code",
   "execution_count": 6,
   "metadata": {},
   "outputs": [],
   "source": [
    "from sklearn.feature_selection import mutual_info_classif\n",
    "\n",
    "import matplotlib.pyplot as plt\n",
    "import numpy as np\n",
    "import pandas as pd\n",
    "import seaborn as sns"
   ]
  },
  {
   "cell_type": "code",
   "execution_count": 7,
   "metadata": {},
   "outputs": [],
   "source": [
    "# copied from  kaggle course\n",
    "def make_mi_scores(new_X, new_y, discrete_features):\n",
    "    mi_scores = mutual_info_classif(new_X, new_y, discrete_features=discrete_features)\n",
    "    mi_scores = pd.Series(mi_scores, name=\"MI Scores\", index=new_X.columns)\n",
    "    mi_scores = mi_scores.sort_values(ascending=False)\n",
    "    return mi_scores\n",
    "\n",
    "def plot_mi_scores(scores):\n",
    "    scores = scores.sort_values(ascending=True)\n",
    "    width = np.arange(len(scores))\n",
    "    ticks = list(scores.index)\n",
    "    plt.barh(width, scores)\n",
    "    plt.yticks(width, ticks)\n",
    "    plt.title(\"Mutual Information Scores\")"
   ]
  },
  {
   "cell_type": "code",
   "execution_count": 8,
   "metadata": {},
   "outputs": [],
   "source": [
    "# Label encoding for categoricals\n",
    "\n",
    "for colname in X.select_dtypes(\"object\"):\n",
    "    X[colname], _ = X[colname].factorize()\n",
    "discrete_features = X.dtypes == int\n"
   ]
  },
  {
   "attachments": {},
   "cell_type": "markdown",
   "metadata": {},
   "source": [
    "*To perform mutual information, we need to specify weather our features are discrete or not since this scikit-learn algorithm treats discrete features differently from continuous features"
   ]
  },
  {
   "cell_type": "code",
   "execution_count": 9,
   "metadata": {},
   "outputs": [
    {
     "data": {
      "text/html": [
       "<div>\n",
       "<style scoped>\n",
       "    .dataframe tbody tr th:only-of-type {\n",
       "        vertical-align: middle;\n",
       "    }\n",
       "\n",
       "    .dataframe tbody tr th {\n",
       "        vertical-align: top;\n",
       "    }\n",
       "\n",
       "    .dataframe thead th {\n",
       "        text-align: right;\n",
       "    }\n",
       "</style>\n",
       "<table border=\"1\" class=\"dataframe\">\n",
       "  <thead>\n",
       "    <tr style=\"text-align: right;\">\n",
       "      <th></th>\n",
       "      <th>TransactionId</th>\n",
       "      <th>BatchId</th>\n",
       "      <th>AccountId</th>\n",
       "      <th>SubscriptionId</th>\n",
       "      <th>CustomerId</th>\n",
       "      <th>CurrencyCode</th>\n",
       "      <th>CountryCode</th>\n",
       "      <th>ProviderId</th>\n",
       "      <th>ProductId</th>\n",
       "      <th>ProductCategory</th>\n",
       "      <th>ChannelId</th>\n",
       "      <th>Amount</th>\n",
       "      <th>Value</th>\n",
       "      <th>TransactionStartTime</th>\n",
       "      <th>PricingStrategy</th>\n",
       "    </tr>\n",
       "  </thead>\n",
       "  <tbody>\n",
       "    <tr>\n",
       "      <th>66339</th>\n",
       "      <td>TransactionId_140085</td>\n",
       "      <td>BatchId_114864</td>\n",
       "      <td>AccountId_4841</td>\n",
       "      <td>SubscriptionId_3829</td>\n",
       "      <td>CustomerId_4827</td>\n",
       "      <td>UGX</td>\n",
       "      <td>256</td>\n",
       "      <td>ProviderId_4</td>\n",
       "      <td>ProductId_6</td>\n",
       "      <td>financial_services</td>\n",
       "      <td>ChannelId_2</td>\n",
       "      <td>-50.0</td>\n",
       "      <td>50</td>\n",
       "      <td>2019-01-20T16:21:05Z</td>\n",
       "      <td>2</td>\n",
       "    </tr>\n",
       "    <tr>\n",
       "      <th>87279</th>\n",
       "      <td>TransactionId_64558</td>\n",
       "      <td>BatchId_39429</td>\n",
       "      <td>AccountId_3981</td>\n",
       "      <td>SubscriptionId_910</td>\n",
       "      <td>CustomerId_4431</td>\n",
       "      <td>UGX</td>\n",
       "      <td>256</td>\n",
       "      <td>ProviderId_5</td>\n",
       "      <td>ProductId_3</td>\n",
       "      <td>airtime</td>\n",
       "      <td>ChannelId_3</td>\n",
       "      <td>1000.0</td>\n",
       "      <td>1000</td>\n",
       "      <td>2019-02-06T18:25:51Z</td>\n",
       "      <td>4</td>\n",
       "    </tr>\n",
       "    <tr>\n",
       "      <th>40582</th>\n",
       "      <td>TransactionId_134904</td>\n",
       "      <td>BatchId_1673</td>\n",
       "      <td>AccountId_135</td>\n",
       "      <td>SubscriptionId_3595</td>\n",
       "      <td>CustomerId_457</td>\n",
       "      <td>UGX</td>\n",
       "      <td>256</td>\n",
       "      <td>ProviderId_6</td>\n",
       "      <td>ProductId_21</td>\n",
       "      <td>utility_bill</td>\n",
       "      <td>ChannelId_3</td>\n",
       "      <td>15000.0</td>\n",
       "      <td>16650</td>\n",
       "      <td>2018-12-26T04:17:14Z</td>\n",
       "      <td>2</td>\n",
       "    </tr>\n",
       "    <tr>\n",
       "      <th>58655</th>\n",
       "      <td>TransactionId_95030</td>\n",
       "      <td>BatchId_133112</td>\n",
       "      <td>AccountId_4840</td>\n",
       "      <td>SubscriptionId_3829</td>\n",
       "      <td>CustomerId_582</td>\n",
       "      <td>UGX</td>\n",
       "      <td>256</td>\n",
       "      <td>ProviderId_4</td>\n",
       "      <td>ProductId_6</td>\n",
       "      <td>financial_services</td>\n",
       "      <td>ChannelId_2</td>\n",
       "      <td>-1000.0</td>\n",
       "      <td>1000</td>\n",
       "      <td>2019-01-12T15:57:39Z</td>\n",
       "      <td>2</td>\n",
       "    </tr>\n",
       "    <tr>\n",
       "      <th>87335</th>\n",
       "      <td>TransactionId_75383</td>\n",
       "      <td>BatchId_7649</td>\n",
       "      <td>AccountId_4841</td>\n",
       "      <td>SubscriptionId_3829</td>\n",
       "      <td>CustomerId_3328</td>\n",
       "      <td>UGX</td>\n",
       "      <td>256</td>\n",
       "      <td>ProviderId_4</td>\n",
       "      <td>ProductId_6</td>\n",
       "      <td>financial_services</td>\n",
       "      <td>ChannelId_2</td>\n",
       "      <td>-50.0</td>\n",
       "      <td>50</td>\n",
       "      <td>2019-02-06T19:05:15Z</td>\n",
       "      <td>2</td>\n",
       "    </tr>\n",
       "  </tbody>\n",
       "</table>\n",
       "</div>"
      ],
      "text/plain": [
       "              TransactionId         BatchId       AccountId   \n",
       "66339  TransactionId_140085  BatchId_114864  AccountId_4841  \\\n",
       "87279   TransactionId_64558   BatchId_39429  AccountId_3981   \n",
       "40582  TransactionId_134904    BatchId_1673   AccountId_135   \n",
       "58655   TransactionId_95030  BatchId_133112  AccountId_4840   \n",
       "87335   TransactionId_75383    BatchId_7649  AccountId_4841   \n",
       "\n",
       "            SubscriptionId       CustomerId CurrencyCode  CountryCode   \n",
       "66339  SubscriptionId_3829  CustomerId_4827          UGX          256  \\\n",
       "87279   SubscriptionId_910  CustomerId_4431          UGX          256   \n",
       "40582  SubscriptionId_3595   CustomerId_457          UGX          256   \n",
       "58655  SubscriptionId_3829   CustomerId_582          UGX          256   \n",
       "87335  SubscriptionId_3829  CustomerId_3328          UGX          256   \n",
       "\n",
       "         ProviderId     ProductId     ProductCategory    ChannelId   Amount   \n",
       "66339  ProviderId_4   ProductId_6  financial_services  ChannelId_2    -50.0  \\\n",
       "87279  ProviderId_5   ProductId_3             airtime  ChannelId_3   1000.0   \n",
       "40582  ProviderId_6  ProductId_21        utility_bill  ChannelId_3  15000.0   \n",
       "58655  ProviderId_4   ProductId_6  financial_services  ChannelId_2  -1000.0   \n",
       "87335  ProviderId_4   ProductId_6  financial_services  ChannelId_2    -50.0   \n",
       "\n",
       "       Value  TransactionStartTime  PricingStrategy  \n",
       "66339     50  2019-01-20T16:21:05Z                2  \n",
       "87279   1000  2019-02-06T18:25:51Z                4  \n",
       "40582  16650  2018-12-26T04:17:14Z                2  \n",
       "58655   1000  2019-01-12T15:57:39Z                2  \n",
       "87335     50  2019-02-06T19:05:15Z                2  "
      ]
     },
     "execution_count": 9,
     "metadata": {},
     "output_type": "execute_result"
    }
   ],
   "source": [
    "X_train.head()"
   ]
  },
  {
   "cell_type": "code",
   "execution_count": 10,
   "metadata": {},
   "outputs": [],
   "source": [
    "mi_scores = make_mi_scores(X, y, discrete_features)"
   ]
  },
  {
   "cell_type": "code",
   "execution_count": 11,
   "metadata": {},
   "outputs": [
    {
     "data": {
      "image/png": "[encoded data removed]",
      "text/plain": [
       "<Figure size 800x500 with 1 Axes>"
      ]
     },
     "metadata": {},
     "output_type": "display_data"
    }
   ],
   "source": [
    "plt.figure(dpi=100, figsize=(8, 5))\n",
    "plot_mi_scores(mi_scores)"
   ]
  },
  {
   "attachments": {},
   "cell_type": "markdown",
   "metadata": {},
   "source": [
    "As a result of this analysis, we can now see on this plot that we should maybe train our model arround these top 5 features : TransactionId , BatchId, TransactionStartTime, Value, Amount. \n",
    "<br/>\n",
    "<br/>\n",
    "But actually, features we want to focus on are those that will have the highest probably to appear again in future transactions since the test data should be quite similar to future transactions. Therefore, features like the TransactionId or BatchId will be totally useless and maybe even confusing for the model since those types of features are unique, they have no chance at all to appear again in the test dataset.\n",
    "This means that the feature will maybe detect a pattern about the TransactionId that he will not be able to find in a test set. In those situtations, we are exposing our model to some possible overfitting which is a big problem that will leed to poor performance on some new observations (unseen from our model during the learning phase).\n",
    "<br>\n",
    "<br>\n",
    "The features that might be more relevant are for example the TransactionStartTime, the Value, ProductId or ProductCategory because these elements have chances to appear in the test data. \n",
    "\n",
    "\n"
   ]
  },
  {
   "attachments": {},
   "cell_type": "markdown",
   "metadata": {},
   "source": [
    "# Initial preprocessing"
   ]
  },
  {
   "cell_type": "code",
   "execution_count": 12,
   "metadata": {},
   "outputs": [],
   "source": [
    "underscore_columns = ['BatchId','AccountId','SubscriptionId','CustomerId','ProviderId','ProductId','ChannelId']#'TransactionId'\n",
    "\n",
    "\n",
    "for cname in X_train.columns:\n",
    "    if cname in underscore_columns:\n",
    "        train_number = X_train[cname].str.split('_').str[1]\n",
    "        valid_number = X_valid[cname].str.split('_').str[1]\n",
    "        test_number = test_data[cname].str.split('_').str[1]\n",
    "        X_train[cname] =  train_number\n",
    "        X_valid[cname] = valid_number\n",
    "        test_data[cname] = test_number\n"
   ]
  },
  {
   "attachments": {},
   "cell_type": "markdown",
   "metadata": {},
   "source": [
    "*In the beginning, i tried using the previous 'underscore_columns' so i had to turn them to discrete variables in order to use SMOTE.  "
   ]
  },
  {
   "cell_type": "code",
   "execution_count": 13,
   "metadata": {},
   "outputs": [
    {
     "data": {
      "text/plain": [
       "CountryCode\n",
       "256    76529\n",
       "Name: count, dtype: int64"
      ]
     },
     "execution_count": 13,
     "metadata": {},
     "output_type": "execute_result"
    }
   ],
   "source": [
    "X_train.CurrencyCode.value_counts()\n",
    "X_train.CountryCode.value_counts()"
   ]
  },
  {
   "attachments": {},
   "cell_type": "markdown",
   "metadata": {},
   "source": [
    "For both CountryCode and CurrencyCode, we can see that all observations have the same values. Therefore there is no informations to deduce from these features,that's why i decided to drop them "
   ]
  },
  {
   "cell_type": "code",
   "execution_count": 14,
   "metadata": {},
   "outputs": [
    {
     "data": {
      "text/html": [
       "<div>\n",
       "<style scoped>\n",
       "    .dataframe tbody tr th:only-of-type {\n",
       "        vertical-align: middle;\n",
       "    }\n",
       "\n",
       "    .dataframe tbody tr th {\n",
       "        vertical-align: top;\n",
       "    }\n",
       "\n",
       "    .dataframe thead th {\n",
       "        text-align: right;\n",
       "    }\n",
       "</style>\n",
       "<table border=\"1\" class=\"dataframe\">\n",
       "  <thead>\n",
       "    <tr style=\"text-align: right;\">\n",
       "      <th></th>\n",
       "      <th>TransactionId</th>\n",
       "      <th>BatchId</th>\n",
       "      <th>AccountId</th>\n",
       "      <th>SubscriptionId</th>\n",
       "      <th>CustomerId</th>\n",
       "      <th>CurrencyCode</th>\n",
       "      <th>CountryCode</th>\n",
       "      <th>ProviderId</th>\n",
       "      <th>ProductId</th>\n",
       "      <th>ProductCategory</th>\n",
       "      <th>ChannelId</th>\n",
       "      <th>Amount</th>\n",
       "      <th>Value</th>\n",
       "      <th>TransactionStartTime</th>\n",
       "      <th>PricingStrategy</th>\n",
       "    </tr>\n",
       "  </thead>\n",
       "  <tbody>\n",
       "    <tr>\n",
       "      <th>66339</th>\n",
       "      <td>TransactionId_140085</td>\n",
       "      <td>114864</td>\n",
       "      <td>4841</td>\n",
       "      <td>3829</td>\n",
       "      <td>4827</td>\n",
       "      <td>UGX</td>\n",
       "      <td>256</td>\n",
       "      <td>4</td>\n",
       "      <td>6</td>\n",
       "      <td>financial_services</td>\n",
       "      <td>2</td>\n",
       "      <td>-50.0</td>\n",
       "      <td>50</td>\n",
       "      <td>2019-01-20T16:21:05Z</td>\n",
       "      <td>2</td>\n",
       "    </tr>\n",
       "    <tr>\n",
       "      <th>87279</th>\n",
       "      <td>TransactionId_64558</td>\n",
       "      <td>39429</td>\n",
       "      <td>3981</td>\n",
       "      <td>910</td>\n",
       "      <td>4431</td>\n",
       "      <td>UGX</td>\n",
       "      <td>256</td>\n",
       "      <td>5</td>\n",
       "      <td>3</td>\n",
       "      <td>airtime</td>\n",
       "      <td>3</td>\n",
       "      <td>1000.0</td>\n",
       "      <td>1000</td>\n",
       "      <td>2019-02-06T18:25:51Z</td>\n",
       "      <td>4</td>\n",
       "    </tr>\n",
       "    <tr>\n",
       "      <th>40582</th>\n",
       "      <td>TransactionId_134904</td>\n",
       "      <td>1673</td>\n",
       "      <td>135</td>\n",
       "      <td>3595</td>\n",
       "      <td>457</td>\n",
       "      <td>UGX</td>\n",
       "      <td>256</td>\n",
       "      <td>6</td>\n",
       "      <td>21</td>\n",
       "      <td>utility_bill</td>\n",
       "      <td>3</td>\n",
       "      <td>15000.0</td>\n",
       "      <td>16650</td>\n",
       "      <td>2018-12-26T04:17:14Z</td>\n",
       "      <td>2</td>\n",
       "    </tr>\n",
       "    <tr>\n",
       "      <th>58655</th>\n",
       "      <td>TransactionId_95030</td>\n",
       "      <td>133112</td>\n",
       "      <td>4840</td>\n",
       "      <td>3829</td>\n",
       "      <td>582</td>\n",
       "      <td>UGX</td>\n",
       "      <td>256</td>\n",
       "      <td>4</td>\n",
       "      <td>6</td>\n",
       "      <td>financial_services</td>\n",
       "      <td>2</td>\n",
       "      <td>-1000.0</td>\n",
       "      <td>1000</td>\n",
       "      <td>2019-01-12T15:57:39Z</td>\n",
       "      <td>2</td>\n",
       "    </tr>\n",
       "    <tr>\n",
       "      <th>87335</th>\n",
       "      <td>TransactionId_75383</td>\n",
       "      <td>7649</td>\n",
       "      <td>4841</td>\n",
       "      <td>3829</td>\n",
       "      <td>3328</td>\n",
       "      <td>UGX</td>\n",
       "      <td>256</td>\n",
       "      <td>4</td>\n",
       "      <td>6</td>\n",
       "      <td>financial_services</td>\n",
       "      <td>2</td>\n",
       "      <td>-50.0</td>\n",
       "      <td>50</td>\n",
       "      <td>2019-02-06T19:05:15Z</td>\n",
       "      <td>2</td>\n",
       "    </tr>\n",
       "  </tbody>\n",
       "</table>\n",
       "</div>"
      ],
      "text/plain": [
       "              TransactionId BatchId AccountId SubscriptionId CustomerId   \n",
       "66339  TransactionId_140085  114864      4841           3829       4827  \\\n",
       "87279   TransactionId_64558   39429      3981            910       4431   \n",
       "40582  TransactionId_134904    1673       135           3595        457   \n",
       "58655   TransactionId_95030  133112      4840           3829        582   \n",
       "87335   TransactionId_75383    7649      4841           3829       3328   \n",
       "\n",
       "      CurrencyCode  CountryCode ProviderId ProductId     ProductCategory   \n",
       "66339          UGX          256          4         6  financial_services  \\\n",
       "87279          UGX          256          5         3             airtime   \n",
       "40582          UGX          256          6        21        utility_bill   \n",
       "58655          UGX          256          4         6  financial_services   \n",
       "87335          UGX          256          4         6  financial_services   \n",
       "\n",
       "      ChannelId   Amount  Value  TransactionStartTime  PricingStrategy  \n",
       "66339         2    -50.0     50  2019-01-20T16:21:05Z                2  \n",
       "87279         3   1000.0   1000  2019-02-06T18:25:51Z                4  \n",
       "40582         3  15000.0  16650  2018-12-26T04:17:14Z                2  \n",
       "58655         2  -1000.0   1000  2019-01-12T15:57:39Z                2  \n",
       "87335         2    -50.0     50  2019-02-06T19:05:15Z                2  "
      ]
     },
     "execution_count": 14,
     "metadata": {},
     "output_type": "execute_result"
    }
   ],
   "source": [
    "X_train.head()"
   ]
  },
  {
   "cell_type": "code",
   "execution_count": 15,
   "metadata": {},
   "outputs": [],
   "source": [
    "from sklearn.compose import ColumnTransformer\n",
    "from sklearn.pipeline import Pipeline\n",
    "from sklearn.preprocessing import OneHotEncoder"
   ]
  },
  {
   "cell_type": "code",
   "execution_count": 16,
   "metadata": {},
   "outputs": [
    {
     "data": {
      "text/html": [
       "<div>\n",
       "<style scoped>\n",
       "    .dataframe tbody tr th:only-of-type {\n",
       "        vertical-align: middle;\n",
       "    }\n",
       "\n",
       "    .dataframe tbody tr th {\n",
       "        vertical-align: top;\n",
       "    }\n",
       "\n",
       "    .dataframe thead th {\n",
       "        text-align: right;\n",
       "    }\n",
       "</style>\n",
       "<table border=\"1\" class=\"dataframe\">\n",
       "  <thead>\n",
       "    <tr style=\"text-align: right;\">\n",
       "      <th></th>\n",
       "      <th>TransactionId</th>\n",
       "      <th>BatchId</th>\n",
       "      <th>AccountId</th>\n",
       "      <th>SubscriptionId</th>\n",
       "      <th>CustomerId</th>\n",
       "      <th>CurrencyCode</th>\n",
       "      <th>CountryCode</th>\n",
       "      <th>ProviderId</th>\n",
       "      <th>ProductId</th>\n",
       "      <th>ProductCategory</th>\n",
       "      <th>ChannelId</th>\n",
       "      <th>Amount</th>\n",
       "      <th>Value</th>\n",
       "      <th>TransactionStartTime</th>\n",
       "      <th>PricingStrategy</th>\n",
       "    </tr>\n",
       "  </thead>\n",
       "  <tbody>\n",
       "    <tr>\n",
       "      <th>69075</th>\n",
       "      <td>TransactionId_91392</td>\n",
       "      <td>117569</td>\n",
       "      <td>834</td>\n",
       "      <td>3759</td>\n",
       "      <td>1179</td>\n",
       "      <td>UGX</td>\n",
       "      <td>256</td>\n",
       "      <td>1</td>\n",
       "      <td>3</td>\n",
       "      <td>airtime</td>\n",
       "      <td>3</td>\n",
       "      <td>2000.0</td>\n",
       "      <td>2000</td>\n",
       "      <td>2019-01-23T11:50:31Z</td>\n",
       "      <td>4</td>\n",
       "    </tr>\n",
       "    <tr>\n",
       "      <th>65709</th>\n",
       "      <td>TransactionId_119416</td>\n",
       "      <td>24161</td>\n",
       "      <td>4127</td>\n",
       "      <td>4240</td>\n",
       "      <td>4579</td>\n",
       "      <td>UGX</td>\n",
       "      <td>256</td>\n",
       "      <td>6</td>\n",
       "      <td>10</td>\n",
       "      <td>airtime</td>\n",
       "      <td>3</td>\n",
       "      <td>1110.0</td>\n",
       "      <td>1110</td>\n",
       "      <td>2019-01-19T17:11:53Z</td>\n",
       "      <td>2</td>\n",
       "    </tr>\n",
       "    <tr>\n",
       "      <th>5430</th>\n",
       "      <td>TransactionId_124012</td>\n",
       "      <td>51521</td>\n",
       "      <td>190</td>\n",
       "      <td>1897</td>\n",
       "      <td>513</td>\n",
       "      <td>UGX</td>\n",
       "      <td>256</td>\n",
       "      <td>6</td>\n",
       "      <td>10</td>\n",
       "      <td>airtime</td>\n",
       "      <td>3</td>\n",
       "      <td>2000.0</td>\n",
       "      <td>2000</td>\n",
       "      <td>2018-11-22T06:34:07Z</td>\n",
       "      <td>2</td>\n",
       "    </tr>\n",
       "    <tr>\n",
       "      <th>82375</th>\n",
       "      <td>TransactionId_12251</td>\n",
       "      <td>126898</td>\n",
       "      <td>4840</td>\n",
       "      <td>3829</td>\n",
       "      <td>3212</td>\n",
       "      <td>UGX</td>\n",
       "      <td>256</td>\n",
       "      <td>4</td>\n",
       "      <td>6</td>\n",
       "      <td>financial_services</td>\n",
       "      <td>2</td>\n",
       "      <td>-1000.0</td>\n",
       "      <td>1000</td>\n",
       "      <td>2019-02-01T17:45:07Z</td>\n",
       "      <td>2</td>\n",
       "    </tr>\n",
       "    <tr>\n",
       "      <th>60896</th>\n",
       "      <td>TransactionId_27059</td>\n",
       "      <td>17843</td>\n",
       "      <td>1579</td>\n",
       "      <td>821</td>\n",
       "      <td>1956</td>\n",
       "      <td>UGX</td>\n",
       "      <td>256</td>\n",
       "      <td>6</td>\n",
       "      <td>3</td>\n",
       "      <td>airtime</td>\n",
       "      <td>3</td>\n",
       "      <td>1000.0</td>\n",
       "      <td>1000</td>\n",
       "      <td>2019-01-15T12:21:53Z</td>\n",
       "      <td>2</td>\n",
       "    </tr>\n",
       "  </tbody>\n",
       "</table>\n",
       "</div>"
      ],
      "text/plain": [
       "              TransactionId BatchId AccountId SubscriptionId CustomerId   \n",
       "69075   TransactionId_91392  117569       834           3759       1179  \\\n",
       "65709  TransactionId_119416   24161      4127           4240       4579   \n",
       "5430   TransactionId_124012   51521       190           1897        513   \n",
       "82375   TransactionId_12251  126898      4840           3829       3212   \n",
       "60896   TransactionId_27059   17843      1579            821       1956   \n",
       "\n",
       "      CurrencyCode  CountryCode ProviderId ProductId     ProductCategory   \n",
       "69075          UGX          256          1         3             airtime  \\\n",
       "65709          UGX          256          6        10             airtime   \n",
       "5430           UGX          256          6        10             airtime   \n",
       "82375          UGX          256          4         6  financial_services   \n",
       "60896          UGX          256          6         3             airtime   \n",
       "\n",
       "      ChannelId  Amount  Value  TransactionStartTime  PricingStrategy  \n",
       "69075         3  2000.0   2000  2019-01-23T11:50:31Z                4  \n",
       "65709         3  1110.0   1110  2019-01-19T17:11:53Z                2  \n",
       "5430          3  2000.0   2000  2018-11-22T06:34:07Z                2  \n",
       "82375         2 -1000.0   1000  2019-02-01T17:45:07Z                2  \n",
       "60896         3  1000.0   1000  2019-01-15T12:21:53Z                2  "
      ]
     },
     "execution_count": 16,
     "metadata": {},
     "output_type": "execute_result"
    }
   ],
   "source": [
    "X_valid.head()"
   ]
  },
  {
   "cell_type": "code",
   "execution_count": 17,
   "metadata": {},
   "outputs": [],
   "source": [
    "from sklearn.metrics import f1_score, recall_score,accuracy_score\n",
    "\n",
    "\n",
    "def compute_imbalanced_scores(model_preds):\n",
    "    f1 = f1_score(y_valid, model_preds)\n",
    "    recall = recall_score(y_valid, model_preds)\n",
    "    accuracy = accuracy_score(y_valid, model_preds)\n",
    "    # f1 = (2*recall*accuracy)/(recall + accuracy)\n",
    "    return f\" Accuracy score: {accuracy} % \\n F1 score: {f1} % \\n Recall score: {recall} \""
   ]
  },
  {
   "cell_type": "code",
   "execution_count": 18,
   "metadata": {},
   "outputs": [
    {
     "data": {
      "text/html": [
       "<div>\n",
       "<style scoped>\n",
       "    .dataframe tbody tr th:only-of-type {\n",
       "        vertical-align: middle;\n",
       "    }\n",
       "\n",
       "    .dataframe tbody tr th {\n",
       "        vertical-align: top;\n",
       "    }\n",
       "\n",
       "    .dataframe thead th {\n",
       "        text-align: right;\n",
       "    }\n",
       "</style>\n",
       "<table border=\"1\" class=\"dataframe\">\n",
       "  <thead>\n",
       "    <tr style=\"text-align: right;\">\n",
       "      <th></th>\n",
       "      <th>TransactionId</th>\n",
       "      <th>BatchId</th>\n",
       "      <th>AccountId</th>\n",
       "      <th>SubscriptionId</th>\n",
       "      <th>CustomerId</th>\n",
       "      <th>CurrencyCode</th>\n",
       "      <th>CountryCode</th>\n",
       "      <th>ProviderId</th>\n",
       "      <th>ProductId</th>\n",
       "      <th>ProductCategory</th>\n",
       "      <th>ChannelId</th>\n",
       "      <th>Amount</th>\n",
       "      <th>Value</th>\n",
       "      <th>TransactionStartTime</th>\n",
       "      <th>PricingStrategy</th>\n",
       "    </tr>\n",
       "  </thead>\n",
       "  <tbody>\n",
       "    <tr>\n",
       "      <th>69075</th>\n",
       "      <td>TransactionId_91392</td>\n",
       "      <td>117569</td>\n",
       "      <td>834</td>\n",
       "      <td>3759</td>\n",
       "      <td>1179</td>\n",
       "      <td>UGX</td>\n",
       "      <td>256</td>\n",
       "      <td>1</td>\n",
       "      <td>3</td>\n",
       "      <td>airtime</td>\n",
       "      <td>3</td>\n",
       "      <td>2000.0</td>\n",
       "      <td>2000</td>\n",
       "      <td>2019-01-23T11:50:31Z</td>\n",
       "      <td>4</td>\n",
       "    </tr>\n",
       "    <tr>\n",
       "      <th>65709</th>\n",
       "      <td>TransactionId_119416</td>\n",
       "      <td>24161</td>\n",
       "      <td>4127</td>\n",
       "      <td>4240</td>\n",
       "      <td>4579</td>\n",
       "      <td>UGX</td>\n",
       "      <td>256</td>\n",
       "      <td>6</td>\n",
       "      <td>10</td>\n",
       "      <td>airtime</td>\n",
       "      <td>3</td>\n",
       "      <td>1110.0</td>\n",
       "      <td>1110</td>\n",
       "      <td>2019-01-19T17:11:53Z</td>\n",
       "      <td>2</td>\n",
       "    </tr>\n",
       "    <tr>\n",
       "      <th>5430</th>\n",
       "      <td>TransactionId_124012</td>\n",
       "      <td>51521</td>\n",
       "      <td>190</td>\n",
       "      <td>1897</td>\n",
       "      <td>513</td>\n",
       "      <td>UGX</td>\n",
       "      <td>256</td>\n",
       "      <td>6</td>\n",
       "      <td>10</td>\n",
       "      <td>airtime</td>\n",
       "      <td>3</td>\n",
       "      <td>2000.0</td>\n",
       "      <td>2000</td>\n",
       "      <td>2018-11-22T06:34:07Z</td>\n",
       "      <td>2</td>\n",
       "    </tr>\n",
       "    <tr>\n",
       "      <th>82375</th>\n",
       "      <td>TransactionId_12251</td>\n",
       "      <td>126898</td>\n",
       "      <td>4840</td>\n",
       "      <td>3829</td>\n",
       "      <td>3212</td>\n",
       "      <td>UGX</td>\n",
       "      <td>256</td>\n",
       "      <td>4</td>\n",
       "      <td>6</td>\n",
       "      <td>financial_services</td>\n",
       "      <td>2</td>\n",
       "      <td>-1000.0</td>\n",
       "      <td>1000</td>\n",
       "      <td>2019-02-01T17:45:07Z</td>\n",
       "      <td>2</td>\n",
       "    </tr>\n",
       "    <tr>\n",
       "      <th>60896</th>\n",
       "      <td>TransactionId_27059</td>\n",
       "      <td>17843</td>\n",
       "      <td>1579</td>\n",
       "      <td>821</td>\n",
       "      <td>1956</td>\n",
       "      <td>UGX</td>\n",
       "      <td>256</td>\n",
       "      <td>6</td>\n",
       "      <td>3</td>\n",
       "      <td>airtime</td>\n",
       "      <td>3</td>\n",
       "      <td>1000.0</td>\n",
       "      <td>1000</td>\n",
       "      <td>2019-01-15T12:21:53Z</td>\n",
       "      <td>2</td>\n",
       "    </tr>\n",
       "  </tbody>\n",
       "</table>\n",
       "</div>"
      ],
      "text/plain": [
       "              TransactionId BatchId AccountId SubscriptionId CustomerId   \n",
       "69075   TransactionId_91392  117569       834           3759       1179  \\\n",
       "65709  TransactionId_119416   24161      4127           4240       4579   \n",
       "5430   TransactionId_124012   51521       190           1897        513   \n",
       "82375   TransactionId_12251  126898      4840           3829       3212   \n",
       "60896   TransactionId_27059   17843      1579            821       1956   \n",
       "\n",
       "      CurrencyCode  CountryCode ProviderId ProductId     ProductCategory   \n",
       "69075          UGX          256          1         3             airtime  \\\n",
       "65709          UGX          256          6        10             airtime   \n",
       "5430           UGX          256          6        10             airtime   \n",
       "82375          UGX          256          4         6  financial_services   \n",
       "60896          UGX          256          6         3             airtime   \n",
       "\n",
       "      ChannelId  Amount  Value  TransactionStartTime  PricingStrategy  \n",
       "69075         3  2000.0   2000  2019-01-23T11:50:31Z                4  \n",
       "65709         3  1110.0   1110  2019-01-19T17:11:53Z                2  \n",
       "5430          3  2000.0   2000  2018-11-22T06:34:07Z                2  \n",
       "82375         2 -1000.0   1000  2019-02-01T17:45:07Z                2  \n",
       "60896         3  1000.0   1000  2019-01-15T12:21:53Z                2  "
      ]
     },
     "execution_count": 18,
     "metadata": {},
     "output_type": "execute_result"
    }
   ],
   "source": [
    "X_valid.head()"
   ]
  },
  {
   "attachments": {},
   "cell_type": "markdown",
   "metadata": {},
   "source": [
    "## Feature engeneering"
   ]
  },
  {
   "cell_type": "code",
   "execution_count": 19,
   "metadata": {},
   "outputs": [],
   "source": [
    "def create_credit_debit_cols(amount):\n",
    "    if amount < 0:\n",
    "        return pd.Series({'Credit': 1, 'Debit': 0})\n",
    "    else:\n",
    "        return pd.Series({'Credit': 0, 'Debit': 1})"
   ]
  },
  {
   "cell_type": "code",
   "execution_count": 20,
   "metadata": {},
   "outputs": [],
   "source": [
    "# Apply the function to 'Amount' column to create 'Credit' and 'Debit' columns\n",
    "X_train[['Credit', 'Debit']] = X_train['Amount'].apply(lambda x: create_credit_debit_cols(x))\n",
    "X_valid[['Credit', 'Debit']] = X_valid['Amount'].apply(lambda x: create_credit_debit_cols(x))\n",
    "test_data[['Credit', 'Debit']] = test_data['Amount'].apply(lambda x: create_credit_debit_cols(x))"
   ]
  },
  {
   "attachments": {},
   "cell_type": "markdown",
   "metadata": {},
   "source": [
    "In the 'Amount' feature, we actually have a hidden information that may be useful to our fraud classification problem. We can retreive the information of whether a transaction was a debit or a credit by looking at the sign of the transaction Amount. Adding these two features is a way of making the information more explicit to our model.  "
   ]
  },
  {
   "cell_type": "code",
   "execution_count": 21,
   "metadata": {},
   "outputs": [
    {
     "data": {
      "text/html": [
       "<div>\n",
       "<style scoped>\n",
       "    .dataframe tbody tr th:only-of-type {\n",
       "        vertical-align: middle;\n",
       "    }\n",
       "\n",
       "    .dataframe tbody tr th {\n",
       "        vertical-align: top;\n",
       "    }\n",
       "\n",
       "    .dataframe thead th {\n",
       "        text-align: right;\n",
       "    }\n",
       "</style>\n",
       "<table border=\"1\" class=\"dataframe\">\n",
       "  <thead>\n",
       "    <tr style=\"text-align: right;\">\n",
       "      <th></th>\n",
       "      <th>TransactionId</th>\n",
       "      <th>BatchId</th>\n",
       "      <th>AccountId</th>\n",
       "      <th>SubscriptionId</th>\n",
       "      <th>CustomerId</th>\n",
       "      <th>CurrencyCode</th>\n",
       "      <th>CountryCode</th>\n",
       "      <th>ProviderId</th>\n",
       "      <th>ProductId</th>\n",
       "      <th>ProductCategory</th>\n",
       "      <th>ChannelId</th>\n",
       "      <th>Amount</th>\n",
       "      <th>Value</th>\n",
       "      <th>TransactionStartTime</th>\n",
       "      <th>PricingStrategy</th>\n",
       "      <th>Credit</th>\n",
       "      <th>Debit</th>\n",
       "    </tr>\n",
       "  </thead>\n",
       "  <tbody>\n",
       "    <tr>\n",
       "      <th>66339</th>\n",
       "      <td>TransactionId_140085</td>\n",
       "      <td>114864</td>\n",
       "      <td>4841</td>\n",
       "      <td>3829</td>\n",
       "      <td>4827</td>\n",
       "      <td>UGX</td>\n",
       "      <td>256</td>\n",
       "      <td>4</td>\n",
       "      <td>6</td>\n",
       "      <td>financial_services</td>\n",
       "      <td>2</td>\n",
       "      <td>-50.0</td>\n",
       "      <td>50</td>\n",
       "      <td>2019-01-20T16:21:05Z</td>\n",
       "      <td>2</td>\n",
       "      <td>1</td>\n",
       "      <td>0</td>\n",
       "    </tr>\n",
       "    <tr>\n",
       "      <th>87279</th>\n",
       "      <td>TransactionId_64558</td>\n",
       "      <td>39429</td>\n",
       "      <td>3981</td>\n",
       "      <td>910</td>\n",
       "      <td>4431</td>\n",
       "      <td>UGX</td>\n",
       "      <td>256</td>\n",
       "      <td>5</td>\n",
       "      <td>3</td>\n",
       "      <td>airtime</td>\n",
       "      <td>3</td>\n",
       "      <td>1000.0</td>\n",
       "      <td>1000</td>\n",
       "      <td>2019-02-06T18:25:51Z</td>\n",
       "      <td>4</td>\n",
       "      <td>0</td>\n",
       "      <td>1</td>\n",
       "    </tr>\n",
       "    <tr>\n",
       "      <th>40582</th>\n",
       "      <td>TransactionId_134904</td>\n",
       "      <td>1673</td>\n",
       "      <td>135</td>\n",
       "      <td>3595</td>\n",
       "      <td>457</td>\n",
       "      <td>UGX</td>\n",
       "      <td>256</td>\n",
       "      <td>6</td>\n",
       "      <td>21</td>\n",
       "      <td>utility_bill</td>\n",
       "      <td>3</td>\n",
       "      <td>15000.0</td>\n",
       "      <td>16650</td>\n",
       "      <td>2018-12-26T04:17:14Z</td>\n",
       "      <td>2</td>\n",
       "      <td>0</td>\n",
       "      <td>1</td>\n",
       "    </tr>\n",
       "    <tr>\n",
       "      <th>58655</th>\n",
       "      <td>TransactionId_95030</td>\n",
       "      <td>133112</td>\n",
       "      <td>4840</td>\n",
       "      <td>3829</td>\n",
       "      <td>582</td>\n",
       "      <td>UGX</td>\n",
       "      <td>256</td>\n",
       "      <td>4</td>\n",
       "      <td>6</td>\n",
       "      <td>financial_services</td>\n",
       "      <td>2</td>\n",
       "      <td>-1000.0</td>\n",
       "      <td>1000</td>\n",
       "      <td>2019-01-12T15:57:39Z</td>\n",
       "      <td>2</td>\n",
       "      <td>1</td>\n",
       "      <td>0</td>\n",
       "    </tr>\n",
       "    <tr>\n",
       "      <th>87335</th>\n",
       "      <td>TransactionId_75383</td>\n",
       "      <td>7649</td>\n",
       "      <td>4841</td>\n",
       "      <td>3829</td>\n",
       "      <td>3328</td>\n",
       "      <td>UGX</td>\n",
       "      <td>256</td>\n",
       "      <td>4</td>\n",
       "      <td>6</td>\n",
       "      <td>financial_services</td>\n",
       "      <td>2</td>\n",
       "      <td>-50.0</td>\n",
       "      <td>50</td>\n",
       "      <td>2019-02-06T19:05:15Z</td>\n",
       "      <td>2</td>\n",
       "      <td>1</td>\n",
       "      <td>0</td>\n",
       "    </tr>\n",
       "  </tbody>\n",
       "</table>\n",
       "</div>"
      ],
      "text/plain": [
       "              TransactionId BatchId AccountId SubscriptionId CustomerId   \n",
       "66339  TransactionId_140085  114864      4841           3829       4827  \\\n",
       "87279   TransactionId_64558   39429      3981            910       4431   \n",
       "40582  TransactionId_134904    1673       135           3595        457   \n",
       "58655   TransactionId_95030  133112      4840           3829        582   \n",
       "87335   TransactionId_75383    7649      4841           3829       3328   \n",
       "\n",
       "      CurrencyCode  CountryCode ProviderId ProductId     ProductCategory   \n",
       "66339          UGX          256          4         6  financial_services  \\\n",
       "87279          UGX          256          5         3             airtime   \n",
       "40582          UGX          256          6        21        utility_bill   \n",
       "58655          UGX          256          4         6  financial_services   \n",
       "87335          UGX          256          4         6  financial_services   \n",
       "\n",
       "      ChannelId   Amount  Value  TransactionStartTime  PricingStrategy   \n",
       "66339         2    -50.0     50  2019-01-20T16:21:05Z                2  \\\n",
       "87279         3   1000.0   1000  2019-02-06T18:25:51Z                4   \n",
       "40582         3  15000.0  16650  2018-12-26T04:17:14Z                2   \n",
       "58655         2  -1000.0   1000  2019-01-12T15:57:39Z                2   \n",
       "87335         2    -50.0     50  2019-02-06T19:05:15Z                2   \n",
       "\n",
       "       Credit  Debit  \n",
       "66339       1      0  \n",
       "87279       0      1  \n",
       "40582       0      1  \n",
       "58655       1      0  \n",
       "87335       1      0  "
      ]
     },
     "execution_count": 21,
     "metadata": {},
     "output_type": "execute_result"
    }
   ],
   "source": [
    "X_train.head()"
   ]
  },
  {
   "attachments": {},
   "cell_type": "markdown",
   "metadata": {},
   "source": [
    "We have the same idea for the 'TransactionStartTime' feature, we can see that it can be decomposed in many more features."
   ]
  },
  {
   "cell_type": "code",
   "execution_count": 22,
   "metadata": {},
   "outputs": [],
   "source": [
    "X_train[\"TransactionStartTime\"] = X_train[\"TransactionStartTime\"].str.replace(\"Z\",\"\")     \n",
    "X_valid[\"TransactionStartTime\"] = X_valid[\"TransactionStartTime\"].str.replace(\"Z\",\"\")  \n",
    "test_data[\"TransactionStartTime\"] = test_data[\"TransactionStartTime\"].str.replace(\"Z\",\"\")  \n",
    "\n",
    "\n",
    "\n",
    "X_train[[\"StartDate\", \"StartTime\"]] = X_train[\"TransactionStartTime\"].str.split(\"T\", expand=True)     \n",
    "X_valid[[\"StartDate\", \"StartTime\"]] = X_valid[\"TransactionStartTime\"].str.split(\"T\", expand=True)  \n",
    "test_data[[\"StartDate\", \"StartTime\"]] = test_data[\"TransactionStartTime\"].str.split(\"T\", expand=True)  \n",
    "\n",
    "X_train[\"StartMonth\"] = X_train[\"StartDate\"].str.split(\"Z\").str[0].str.split('-').str[1]\n",
    "X_valid[\"StartMonth\"] = X_valid[\"StartDate\"].str.split(\"Z\").str[0].str.split('-').str[1]\n",
    "test_data[\"StartMonth\"] = test_data[\"StartDate\"].str.split(\"Z\").str[0].str.split('-').str[1]\n",
    "\n",
    "X_train[\"StartDay\"] = X_train[\"StartDate\"].str.split(\"Z\").str[0].str.split('-').str[2]\n",
    "X_valid[\"StartDay\"] = X_valid[\"StartDate\"].str.split(\"Z\").str[0].str.split('-').str[2]\n",
    "test_data[\"StartDay\"] = test_data[\"StartDate\"].str.split(\"Z\").str[0].str.split('-').str[2]\n",
    "\n",
    "X_train[\"StartHour\"] = X_train[\"StartTime\"].str.split(\":\").str[0]\n",
    "X_valid[\"StartHour\"] = X_valid[\"StartTime\"].str.split(\":\").str[0]\n",
    "test_data[\"StartHour\"] = test_data[\"StartTime\"].str.split(\":\").str[0]\n",
    "\n",
    "X_train[\"StartMinute\"] = X_train[\"StartTime\"].str.split(\":\").str[1]\n",
    "X_valid[\"StartMinute\"] = X_valid[\"StartTime\"].str.split(\":\").str[1]\n",
    "test_data[\"StartMinute\"] = test_data[\"StartTime\"].str.split(\":\").str[1]\n",
    "\n",
    "\n",
    "# X_train = X_train.drop('TransactionStartTime',axis=1)\n",
    "# X_valid= X_valid.drop('TransactionStartTime',axis=1)\n",
    "# test_data= test_data.drop('TransactionStartTime',axis=1)\n",
    "\n",
    "\n",
    "# feature engeneering using mutual information showed that these two columns have no impact on FraudResult\n",
    "# added temporary other features starting from BatchId\n",
    "useless_columns = ['TransactionId','CurrencyCode','CountryCode','TransactionStartTime','StartTime','StartDate','StartDay','StartMinute','Amount','BatchId','SubscriptionId','ChannelId','CustomerId','ProductId','ProviderId','AccountId']#'StartHour','StartMinute','StartDay'\n",
    "X_train = X_train.drop(useless_columns,axis=1)\n",
    "X_valid= X_valid.drop(useless_columns,axis=1)\n",
    "test_data= test_data.drop(useless_columns[1:],axis=1)\n",
    "\n"
   ]
  },
  {
   "attachments": {},
   "cell_type": "markdown",
   "metadata": {},
   "source": [
    "At this point, i am just breaking down the transaction start time so i can then see which information of this feature can be relevant to our model. "
   ]
  },
  {
   "cell_type": "code",
   "execution_count": 23,
   "metadata": {},
   "outputs": [],
   "source": [
    "df_train = pd.concat([X_train,y_train],axis=1)"
   ]
  },
  {
   "cell_type": "code",
   "execution_count": 24,
   "metadata": {},
   "outputs": [
    {
     "name": "stdout",
     "output_type": "stream",
     "text": [
      "StartMonth\n",
      "01            52\n",
      "12            52\n",
      "02            42\n",
      "11            12\n",
      "Name: count, dtype: int64\n"
     ]
    },
    {
     "data": {
      "text/plain": [
       "<Axes: xlabel='StartMonth'>"
      ]
     },
     "execution_count": 24,
     "metadata": {},
     "output_type": "execute_result"
    },
    {
     "data": {
      "image/png": "[encoded data removed]",
      "text/plain": [
       "<Figure size 640x480 with 1 Axes>"
      ]
     },
     "metadata": {},
     "output_type": "display_data"
    }
   ],
   "source": [
    "months_with_fraud = df_train.loc[df_train.FraudResult==1,[\"StartMonth\"]].value_counts()\n",
    "print(months_with_fraud)\n",
    "months_with_fraud.plot.bar()"
   ]
  },
  {
   "cell_type": "markdown",
   "metadata": {},
   "source": []
  },
  {
   "attachments": {},
   "cell_type": "markdown",
   "metadata": {},
   "source": [
    "We can see that all fraudulent transactions has been done on 4 months : January, February,October an November. So this feature might be interesting to use in our model."
   ]
  },
  {
   "cell_type": "code",
   "execution_count": 25,
   "metadata": {},
   "outputs": [
    {
     "name": "stdout",
     "output_type": "stream",
     "text": [
      "PricingStrategy\n",
      "2                  115\n",
      "0                   29\n",
      "4                    9\n",
      "1                    5\n",
      "Name: count, dtype: int64\n"
     ]
    },
    {
     "data": {
      "text/plain": [
       "<Axes: xlabel='PricingStrategy'>"
      ]
     },
     "execution_count": 25,
     "metadata": {},
     "output_type": "execute_result"
    },
    {
     "data": {
      "image/png": "[encoded data removed]",
      "text/plain": [
       "<Figure size 640x480 with 1 Axes>"
      ]
     },
     "metadata": {},
     "output_type": "display_data"
    }
   ],
   "source": [
    "pricing_strategy_with_fraud = df_train.loc[df_train.FraudResult==1,[\"PricingStrategy\"]].value_counts()\n",
    "print(pricing_strategy_with_fraud)\n",
    "pricing_strategy_with_fraud.plot.bar()"
   ]
  },
  {
   "attachments": {},
   "cell_type": "markdown",
   "metadata": {},
   "source": [
    "With the same type of analysis on the PricingStrategy, we can see that most of the fraudulent transactions has been done using the second Strategy. This features might then be relevant as well."
   ]
  },
  {
   "cell_type": "code",
   "execution_count": 26,
   "metadata": {},
   "outputs": [
    {
     "data": {
      "text/html": [
       "<div>\n",
       "<style scoped>\n",
       "    .dataframe tbody tr th:only-of-type {\n",
       "        vertical-align: middle;\n",
       "    }\n",
       "\n",
       "    .dataframe tbody tr th {\n",
       "        vertical-align: top;\n",
       "    }\n",
       "\n",
       "    .dataframe thead th {\n",
       "        text-align: right;\n",
       "    }\n",
       "</style>\n",
       "<table border=\"1\" class=\"dataframe\">\n",
       "  <thead>\n",
       "    <tr style=\"text-align: right;\">\n",
       "      <th></th>\n",
       "      <th>ProductCategory</th>\n",
       "      <th>Value</th>\n",
       "      <th>PricingStrategy</th>\n",
       "      <th>Credit</th>\n",
       "      <th>Debit</th>\n",
       "      <th>StartMonth</th>\n",
       "      <th>StartHour</th>\n",
       "    </tr>\n",
       "  </thead>\n",
       "  <tbody>\n",
       "    <tr>\n",
       "      <th>66339</th>\n",
       "      <td>financial_services</td>\n",
       "      <td>50</td>\n",
       "      <td>2</td>\n",
       "      <td>1</td>\n",
       "      <td>0</td>\n",
       "      <td>01</td>\n",
       "      <td>16</td>\n",
       "    </tr>\n",
       "    <tr>\n",
       "      <th>87279</th>\n",
       "      <td>airtime</td>\n",
       "      <td>1000</td>\n",
       "      <td>4</td>\n",
       "      <td>0</td>\n",
       "      <td>1</td>\n",
       "      <td>02</td>\n",
       "      <td>18</td>\n",
       "    </tr>\n",
       "    <tr>\n",
       "      <th>40582</th>\n",
       "      <td>utility_bill</td>\n",
       "      <td>16650</td>\n",
       "      <td>2</td>\n",
       "      <td>0</td>\n",
       "      <td>1</td>\n",
       "      <td>12</td>\n",
       "      <td>04</td>\n",
       "    </tr>\n",
       "    <tr>\n",
       "      <th>58655</th>\n",
       "      <td>financial_services</td>\n",
       "      <td>1000</td>\n",
       "      <td>2</td>\n",
       "      <td>1</td>\n",
       "      <td>0</td>\n",
       "      <td>01</td>\n",
       "      <td>15</td>\n",
       "    </tr>\n",
       "    <tr>\n",
       "      <th>87335</th>\n",
       "      <td>financial_services</td>\n",
       "      <td>50</td>\n",
       "      <td>2</td>\n",
       "      <td>1</td>\n",
       "      <td>0</td>\n",
       "      <td>02</td>\n",
       "      <td>19</td>\n",
       "    </tr>\n",
       "  </tbody>\n",
       "</table>\n",
       "</div>"
      ],
      "text/plain": [
       "          ProductCategory  Value  PricingStrategy  Credit  Debit StartMonth   \n",
       "66339  financial_services     50                2       1      0         01  \\\n",
       "87279             airtime   1000                4       0      1         02   \n",
       "40582        utility_bill  16650                2       0      1         12   \n",
       "58655  financial_services   1000                2       1      0         01   \n",
       "87335  financial_services     50                2       1      0         02   \n",
       "\n",
       "      StartHour  \n",
       "66339        16  \n",
       "87279        18  \n",
       "40582        04  \n",
       "58655        15  \n",
       "87335        19  "
      ]
     },
     "execution_count": 26,
     "metadata": {},
     "output_type": "execute_result"
    }
   ],
   "source": [
    "X_train.head()"
   ]
  },
  {
   "attachments": {},
   "cell_type": "markdown",
   "metadata": {},
   "source": [
    "At this point, data has been formated but the ProductCategory still needs some type of encoding to be interpreted by a model"
   ]
  },
  {
   "cell_type": "code",
   "execution_count": 27,
   "metadata": {},
   "outputs": [
    {
     "data": {
      "text/html": [
       "<div>\n",
       "<style scoped>\n",
       "    .dataframe tbody tr th:only-of-type {\n",
       "        vertical-align: middle;\n",
       "    }\n",
       "\n",
       "    .dataframe tbody tr th {\n",
       "        vertical-align: top;\n",
       "    }\n",
       "\n",
       "    .dataframe thead th {\n",
       "        text-align: right;\n",
       "    }\n",
       "</style>\n",
       "<table border=\"1\" class=\"dataframe\">\n",
       "  <thead>\n",
       "    <tr style=\"text-align: right;\">\n",
       "      <th></th>\n",
       "      <th>ProductCategory</th>\n",
       "      <th>Value</th>\n",
       "      <th>PricingStrategy</th>\n",
       "      <th>Credit</th>\n",
       "      <th>Debit</th>\n",
       "      <th>StartMonth</th>\n",
       "      <th>StartHour</th>\n",
       "    </tr>\n",
       "  </thead>\n",
       "  <tbody>\n",
       "    <tr>\n",
       "      <th>66339</th>\n",
       "      <td>2</td>\n",
       "      <td>50</td>\n",
       "      <td>2</td>\n",
       "      <td>1</td>\n",
       "      <td>0</td>\n",
       "      <td>01</td>\n",
       "      <td>16</td>\n",
       "    </tr>\n",
       "    <tr>\n",
       "      <th>87279</th>\n",
       "      <td>0</td>\n",
       "      <td>1000</td>\n",
       "      <td>4</td>\n",
       "      <td>0</td>\n",
       "      <td>1</td>\n",
       "      <td>02</td>\n",
       "      <td>18</td>\n",
       "    </tr>\n",
       "    <tr>\n",
       "      <th>40582</th>\n",
       "      <td>8</td>\n",
       "      <td>16650</td>\n",
       "      <td>2</td>\n",
       "      <td>0</td>\n",
       "      <td>1</td>\n",
       "      <td>12</td>\n",
       "      <td>04</td>\n",
       "    </tr>\n",
       "    <tr>\n",
       "      <th>58655</th>\n",
       "      <td>2</td>\n",
       "      <td>1000</td>\n",
       "      <td>2</td>\n",
       "      <td>1</td>\n",
       "      <td>0</td>\n",
       "      <td>01</td>\n",
       "      <td>15</td>\n",
       "    </tr>\n",
       "    <tr>\n",
       "      <th>87335</th>\n",
       "      <td>2</td>\n",
       "      <td>50</td>\n",
       "      <td>2</td>\n",
       "      <td>1</td>\n",
       "      <td>0</td>\n",
       "      <td>02</td>\n",
       "      <td>19</td>\n",
       "    </tr>\n",
       "  </tbody>\n",
       "</table>\n",
       "</div>"
      ],
      "text/plain": [
       "      ProductCategory  Value  PricingStrategy  Credit  Debit StartMonth   \n",
       "66339               2     50                2       1      0         01  \\\n",
       "87279               0   1000                4       0      1         02   \n",
       "40582               8  16650                2       0      1         12   \n",
       "58655               2   1000                2       1      0         01   \n",
       "87335               2     50                2       1      0         02   \n",
       "\n",
       "      StartHour  \n",
       "66339        16  \n",
       "87279        18  \n",
       "40582        04  \n",
       "58655        15  \n",
       "87335        19  "
      ]
     },
     "execution_count": 27,
     "metadata": {},
     "output_type": "execute_result"
    }
   ],
   "source": [
    "from sklearn.preprocessing import LabelEncoder,OneHotEncoder\n",
    "enc = LabelEncoder()\n",
    "# enc = OneHotEncoder(handle_unknown='ignore', sparse=False)\n",
    "X_train.loc[:,['ProductCategory']] = X_train.loc[:,['ProductCategory']].apply(enc.fit_transform)\n",
    "X_valid.loc[:,['ProductCategory']] = X_valid.loc[:,['ProductCategory']].apply(enc.fit_transform)\n",
    "test_data.loc[:,['ProductCategory']] = test_data.loc[:,['ProductCategory']].apply(enc.fit_transform)\n",
    "X_train.head()"
   ]
  },
  {
   "attachments": {},
   "cell_type": "markdown",
   "metadata": {},
   "source": [
    "As we have mentionned earlier, our dataset is highly imbalanced so we will now considerate optimisations towards this problem."
   ]
  },
  {
   "attachments": {},
   "cell_type": "markdown",
   "metadata": {},
   "source": [
    "# Oversampling"
   ]
  },
  {
   "attachments": {},
   "cell_type": "markdown",
   "metadata": {},
   "source": [
    "In the begining of this project, i first wanted to get a baseline model and then compared it with some other models. I also compared oversampling to undersampling but in this case. Since we only have arround 200 fraudulents transactions in our trainning set, the best solution is the oversampling (See 'fraud_detection.ipynb'). While comparing the different possibilities, i first used the 'resample' function from 'sklearn.utils' which appeared to be less efficient then using simply the original (imbalanced) dataset, but actually oversampling is the most efficient as long as we have a good oversampling method. SMOTE was quite performant in my case, but the simple 'resample' function was just creating observations with random features which was of course not helpful for any model. "
   ]
  },
  {
   "cell_type": "code",
   "execution_count": 28,
   "metadata": {},
   "outputs": [],
   "source": [
    "from imblearn.over_sampling import SMOTE, SMOTENC,RandomOverSampler"
   ]
  },
  {
   "cell_type": "code",
   "execution_count": 29,
   "metadata": {},
   "outputs": [],
   "source": [
    "# sm = SMOTE(random_state=0,k_neighbors=3)#random_state=27\n",
    "sm = RandomOverSampler(random_state=0)\n",
    "\n",
    "X_train, y_train = sm.fit_resample(X_train, y_train)\n",
    "# X_valid, y_valid = sm.fit_resample(X_valid, y_valid)\n",
    "\n",
    "#It makes more sense to not oversample the validation set because this would give higher f1 scores but that would not be an accurate way of testing "
   ]
  },
  {
   "attachments": {},
   "cell_type": "markdown",
   "metadata": {},
   "source": [
    "# Models"
   ]
  },
  {
   "cell_type": "code",
   "execution_count": 30,
   "metadata": {},
   "outputs": [],
   "source": [
    "from sklearn.ensemble import RandomForestClassifier \n",
    "from sklearn.tree import DecisionTreeClassifier\n",
    "from imblearn.pipeline import make_pipeline"
   ]
  },
  {
   "cell_type": "code",
   "execution_count": 31,
   "metadata": {},
   "outputs": [],
   "source": [
    "\n",
    "random_forest_model = RandomForestClassifier(random_state=0,max_leaf_nodes=200,n_estimators=100)\n",
    "decision_tree_model = DecisionTreeClassifier(random_state=0)\n",
    "\n",
    "\n",
    "forest_pipeline = make_pipeline(SMOTE(random_state=0),random_forest_model)# random_state = 42\n",
    "# forest_pipeline = make_pipeline(RandomOverSampler(random_state=42),random_forest_model)# random_state = 42\n",
    "tree_pipeline = make_pipeline(SMOTE(random_state=0),decision_tree_model)# random_state = 42\n",
    "# tree_pipeline = make_pipeline(RandomOverSampler(random_state=42),decision_tree_model)# random_state = 42\n",
    "\n",
    "\n",
    "# forest_pipeline = Pipeline(steps=[\n",
    "#                             ('preprocessor', preprocessor),\n",
    "#                             ('smote', SMOTE(random_state=27)),\n",
    "#                             ('model',model)\n",
    "#                             ])\n",
    "forest_pipeline.fit(X_train,y_train)\n",
    "tree_pipeline.fit(X_train,y_train)\n",
    "\n",
    "forest_preds = forest_pipeline.predict(X_valid)\n",
    "tree_preds = tree_pipeline.predict(X_valid)\n"
   ]
  },
  {
   "cell_type": "code",
   "execution_count": 32,
   "metadata": {},
   "outputs": [
    {
     "name": "stdout",
     "output_type": "stream",
     "text": [
      " Accuracy score: 0.9980661684001464 % \n",
      " F1 score: 0.6185567010309277 % \n",
      " Recall score: 0.8571428571428571 \n"
     ]
    }
   ],
   "source": [
    "forest_score = compute_imbalanced_scores(forest_preds)\n",
    "print(forest_score)"
   ]
  },
  {
   "attachments": {},
   "cell_type": "markdown",
   "metadata": {},
   "source": [
    "## Trying to optimize decision tree model"
   ]
  },
  {
   "cell_type": "code",
   "execution_count": 33,
   "metadata": {},
   "outputs": [],
   "source": [
    "# # Trying to optimize decision tree \n",
    "\n",
    "# for depth in [1,2,5,10,20,50]:\n",
    "#     tree_model = DecisionTreeClassifier(max_depth=depth,random_state=0)\n",
    "#     pipeline = make_pipeline(SMOTE(random_state=0),tree_model)\n",
    "#     pipeline.fit(X_train,y_train)\n",
    "#     preds = pipeline.predict(X_valid)\n",
    "#     pipeline_score = compute_imbalanced_scores(preds)\n",
    "#     print(depth, pipeline_score,sep=\" : \")\n",
    "\n",
    "# for max_leaf_nodes in [50,100,200,500,1000]:\n",
    "#     tree_model = DecisionTreeClassifier(max_leaf_nodes=max_leaf_nodes,max_depth=20,random_state=0)\n",
    "#     pipeline = make_pipeline(SMOTE(random_state=0),tree_model)\n",
    "#     pipeline.fit(X_train,y_train)\n",
    "#     preds = pipeline.predict(X_valid)\n",
    "#     pipeline_score = compute_imbalanced_scores(preds)\n",
    "#     print(max_leaf_nodes, pipeline_score,sep=\" : \")\n",
    "\n"
   ]
  },
  {
   "attachments": {},
   "cell_type": "markdown",
   "metadata": {},
   "source": [
    "20 is a good depth value, bigger would leed to overfitting, smaller value give's poor fitting"
   ]
  },
  {
   "cell_type": "code",
   "execution_count": 34,
   "metadata": {},
   "outputs": [],
   "source": [
    "# for k_neighbors in [10,20,30,40,50,60]:\n",
    "#     tree_model = DecisionTreeClassifier(max_depth=20,random_state=0)\n",
    "#     pipeline = make_pipeline(SMOTE(random_state=0,k_neighbors=k_neighbors),tree_model)\n",
    "#     pipeline.fit(X_train,y_train)\n",
    "#     preds = pipeline.predict(X_valid)\n",
    "#     pipeline_score = compute_imbalanced_scores(preds)\n",
    "#     print(k_neighbors, pipeline_score,sep=\" : \")"
   ]
  },
  {
   "attachments": {},
   "cell_type": "markdown",
   "metadata": {},
   "source": [
    "## Trying to optimize random forest model"
   ]
  },
  {
   "cell_type": "code",
   "execution_count": 35,
   "metadata": {},
   "outputs": [],
   "source": [
    "# Trying to optimize random forest model\n",
    "\n",
    "# for max_leaf_nodes in [50,100,200,500]:\n",
    "#     random_forest_model = RandomForestClassifier(max_leaf_nodes=max_leaf_nodes,random_state=0)\n",
    "#     pipeline = make_pipeline(SMOTE(random_state=0),random_forest_model)\n",
    "#     pipeline.fit(X_train,y_train)\n",
    "#     preds = pipeline.predict(X_valid)\n",
    "#     pipeline_score = compute_imbalanced_scores(preds)\n",
    "#     print(max_leaf_nodes, pipeline_score,sep=\" : \")\n"
   ]
  },
  {
   "cell_type": "code",
   "execution_count": 36,
   "metadata": {},
   "outputs": [],
   "source": [
    "# for n_estimators in [50,100,200,400]:\n",
    "#     random_forest_model = RandomForestClassifier(max_leaf_nodes=200,n_estimators=n_estimators,random_state=0)\n",
    "#     pipeline = make_pipeline(SMOTE(random_state=0),random_forest_model)\n",
    "#     pipeline.fit(X_train,y_train)\n",
    "#     preds = pipeline.predict(X_valid)\n",
    "#     pipeline_score = compute_imbalanced_scores(preds)\n",
    "#     print(n_estimators, pipeline_score,sep=\" : \")"
   ]
  },
  {
   "attachments": {},
   "cell_type": "markdown",
   "metadata": {},
   "source": [
    "200 leaf nodes seems best, adding more cycle to the iterating process doesn't perform better in our case"
   ]
  },
  {
   "cell_type": "code",
   "execution_count": 37,
   "metadata": {},
   "outputs": [],
   "source": [
    "# for k_neighbors in [1,2,3,4,5,10,20,35,50]:\n",
    "#     random_forest_model = RandomForestClassifier(max_leaf_nodes=200,n_estimators=100,random_state=0)\n",
    "#     pipeline = make_pipeline(SMOTE(random_state=0,k_neighbors=k_neighbors),random_forest_model)\n",
    "#     pipeline.fit(X_train,y_train)\n",
    "#     preds = pipeline.predict(X_valid)\n",
    "#     pipeline_score = compute_imbalanced_scores(preds)\n",
    "#     print(k_neighbors, pipeline_score,sep=\" : \")\n",
    "\n",
    "# k neighbors have no impact on both models :decision tree and random forest"
   ]
  },
  {
   "attachments": {},
   "cell_type": "markdown",
   "metadata": {},
   "source": [
    "Unfortunately in my case, tuning the hyperparameters of my models didn't add any valuable outcome so i kept using the default parameters for the RandomForest Model. "
   ]
  },
  {
   "cell_type": "code",
   "execution_count": 38,
   "metadata": {},
   "outputs": [
    {
     "name": "stdout",
     "output_type": "stream",
     "text": [
      "Random forest : \n",
      " Accuracy score: 0.9980661684001464 % \n",
      " F1 score: 0.6185567010309277 % \n",
      " Recall score: 0.8571428571428571 \n",
      "Decision Tree : \n",
      " Accuracy score: 0.9981706998379762 % \n",
      " F1 score: 0.631578947368421 % \n",
      " Recall score: 0.8571428571428571 \n"
     ]
    }
   ],
   "source": [
    "random_forest_preds_scores = compute_imbalanced_scores(forest_preds)\n",
    "tree_preds_scores = compute_imbalanced_scores(tree_preds)\n",
    "# xgb_preds_scores = compute_imbalanced_scores(xgb_preds)\n",
    "\n",
    "print(\"Random forest : \",random_forest_preds_scores,sep='\\n')\n",
    "print(\"Decision Tree : \",tree_preds_scores,sep='\\n')\n",
    "# print(\"XGB : \",xgb_preds_scores,sep='\\n')\n"
   ]
  },
  {
   "cell_type": "code",
   "execution_count": 39,
   "metadata": {},
   "outputs": [
    {
     "data": {
      "text/html": [
       "<div>\n",
       "<style scoped>\n",
       "    .dataframe tbody tr th:only-of-type {\n",
       "        vertical-align: middle;\n",
       "    }\n",
       "\n",
       "    .dataframe tbody tr th {\n",
       "        vertical-align: top;\n",
       "    }\n",
       "\n",
       "    .dataframe thead th {\n",
       "        text-align: right;\n",
       "    }\n",
       "</style>\n",
       "<table border=\"1\" class=\"dataframe\">\n",
       "  <thead>\n",
       "    <tr style=\"text-align: right;\">\n",
       "      <th></th>\n",
       "      <th>ProductCategory</th>\n",
       "      <th>Value</th>\n",
       "      <th>PricingStrategy</th>\n",
       "      <th>Credit</th>\n",
       "      <th>Debit</th>\n",
       "      <th>StartMonth</th>\n",
       "      <th>StartHour</th>\n",
       "    </tr>\n",
       "  </thead>\n",
       "  <tbody>\n",
       "    <tr>\n",
       "      <th>0</th>\n",
       "      <td>0</td>\n",
       "      <td>1000</td>\n",
       "      <td>4</td>\n",
       "      <td>0</td>\n",
       "      <td>1</td>\n",
       "      <td>02</td>\n",
       "      <td>10</td>\n",
       "    </tr>\n",
       "    <tr>\n",
       "      <th>1</th>\n",
       "      <td>2</td>\n",
       "      <td>2000</td>\n",
       "      <td>2</td>\n",
       "      <td>0</td>\n",
       "      <td>1</td>\n",
       "      <td>02</td>\n",
       "      <td>10</td>\n",
       "    </tr>\n",
       "    <tr>\n",
       "      <th>2</th>\n",
       "      <td>2</td>\n",
       "      <td>50</td>\n",
       "      <td>2</td>\n",
       "      <td>1</td>\n",
       "      <td>0</td>\n",
       "      <td>02</td>\n",
       "      <td>10</td>\n",
       "    </tr>\n",
       "    <tr>\n",
       "      <th>3</th>\n",
       "      <td>0</td>\n",
       "      <td>3000</td>\n",
       "      <td>4</td>\n",
       "      <td>0</td>\n",
       "      <td>1</td>\n",
       "      <td>02</td>\n",
       "      <td>10</td>\n",
       "    </tr>\n",
       "    <tr>\n",
       "      <th>4</th>\n",
       "      <td>2</td>\n",
       "      <td>60</td>\n",
       "      <td>2</td>\n",
       "      <td>1</td>\n",
       "      <td>0</td>\n",
       "      <td>02</td>\n",
       "      <td>10</td>\n",
       "    </tr>\n",
       "  </tbody>\n",
       "</table>\n",
       "</div>"
      ],
      "text/plain": [
       "  ProductCategory  Value  PricingStrategy  Credit  Debit StartMonth StartHour\n",
       "0               0   1000                4       0      1         02        10\n",
       "1               2   2000                2       0      1         02        10\n",
       "2               2     50                2       1      0         02        10\n",
       "3               0   3000                4       0      1         02        10\n",
       "4               2     60                2       1      0         02        10"
      ]
     },
     "execution_count": 39,
     "metadata": {},
     "output_type": "execute_result"
    }
   ],
   "source": [
    "test_data.head()"
   ]
  },
  {
   "attachments": {},
   "cell_type": "markdown",
   "metadata": {},
   "source": [
    "The previous dataframe shows the features i kept for my final model.  Event though some features appeared to be useful in the MI analysis, using all these features was not the best in my case. "
   ]
  },
  {
   "attachments": {},
   "cell_type": "markdown",
   "metadata": {},
   "source": [
    "# Submission"
   ]
  },
  {
   "cell_type": "markdown",
   "metadata": {},
   "source": []
  },
  {
   "cell_type": "code",
   "execution_count": 40,
   "metadata": {},
   "outputs": [],
   "source": [
    "# Submission\n",
    "# test_data = test_data[numerical_cols]\n",
    "test_data.head()\n",
    "\n",
    "# real_preds = svm_pipeline.predict(test_data)\n",
    "real_preds = forest_pipeline.predict(test_data)\n",
    "\n",
    "\n",
    "preds_df =  pd.DataFrame(\n",
    "    {'TransactionId': transaction_test_ids,'FraudResult':real_preds}\n",
    "    # {'TransactionId': transaction_test_ids.map(lambda id: \"TransactionId_\"+id),'FraudResult':real_preds}\n",
    ")\n",
    "preds_df\n",
    "my_submission = preds_df.to_csv(\"my_submission.csv\",index=False)"
   ]
  },
  {
   "attachments": {},
   "cell_type": "markdown",
   "metadata": {},
   "source": [
    "### Scores\n",
    "\n",
    "\n",
    "53 % :\n",
    "    <li>preprocessing : remove underscores and prefixes, adding two features credit/debit but dropped some columns : ProductCategory, TransactionStartTime,CurrencyCode and Amount\n",
    "    <li>SMOTE for oversampling\n",
    "    <li>RandomForestClassifier (100 estimators) model\n",
    "\n",
    "68 % :\n",
    "    <li>preprocessing : remove underscores and prefixes, adding two features credit/debit but dropped some columns : \n",
    "    'CurrencyCode','CountryCode','StartTime','StartDate','Amount','BatchId','AccountId','SubscriptionId','CustomerId','ProviderId','TransactionStartTime','CurrencyCode' and 'Amount'\n",
    "    <li>SMOTE for oversampling\n",
    "    <li>label encoding for ProductCategory\n",
    "    <li>RandomForestClassifier (100 estimators) model\n",
    "    \n",
    "53% : went back to a previous score when i dropped the following features that we specified as relevant from the mutual information analysis. \n",
    "  Dropped features : 'CurrencyCode','CountryCode','StartTime','StartDate','Amount','BatchId','ProviderId'\n",
    "  This scenario is typically the case of a model which is overfitting the trainnig data set. When we will test our model on new transactions, features like the SubscriptionId or AccountId may not appear again in future transactions, they are to specific to the trainning dataset.\n",
    "\n",
    "\n",
    "71% : \n",
    "    <li>preprocessing : remove underscores and prefixes, adding two features credit/debit but dropped some columns : \n",
    "    'CurrencyCode','CountryCode','StartTime','StartDate','Amount','BatchId','AccountId','SubscriptionId','CustomerId','ProviderId','TransactionStartTime','CurrencyCode',Amount' and also TransactionId\n",
    "    <li>SMOTE for oversampling\n",
    "    <li>label encoding for ProductCategory\n",
    "    <li>RandomForestClassifier (100 estimators) model\n",
    "\n",
    "73% : \n",
    "    <li>preprocessing : remove underscores and prefixes, adding two features credit/debit but dropped some columns : \n",
    "    'CurrencyCode','CountryCode','StartTime','StartDate','Amount','BatchId','SubscriptionId','ChannelId','CustomerId','ProductId','AccountId','TransactionId' (since previous step : removed also ProductId and added ProviderId)\n",
    "    <li>Played around with parameters of smote and RandomForest \n",
    "    <li>SMOTE for oversampling with default value of 5 for k_neighbors\n",
    "    <li>label encoding for ProductCategory\n",
    "    <li>RandomForestClassifier (100 estimators) model, fixed max leaf nodes to 200\n",
    "\n",
    "\n",
    "75% : \n",
    "<li>replaced my oversampling method : changed from SMOTE to RandomOversampler\n",
    "<li>used the following features : ProductCategory,Value,PricingStrategy,Credit, Debit , StartDay and StartHour\n"
   ]
  }
 ],
 "metadata": {
  "kernelspec": {
   "display_name": "Python 3",
   "language": "python",
   "name": "python3"
  },
  "language_info": {
   "codemirror_mode": {
    "name": "ipython",
    "version": 3
   },
   "file_extension": ".py",
   "mimetype": "text/x-python",
   "name": "python",
   "nbconvert_exporter": "python",
   "pygments_lexer": "ipython3",
   "version": "3.10.7"
  },
  "orig_nbformat": 4,
  "vscode": {
   "interpreter": {
    "hash": "aee8b7b246df8f9039afb4144a1f6fd8d2ca17a180786b69acc140d282b71a49"
   }
  }
 },
 "nbformat": 4,
 "nbformat_minor": 2
}
